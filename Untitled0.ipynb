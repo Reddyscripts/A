{
  "nbformat": 4,
  "nbformat_minor": 0,
  "metadata": {
    "colab": {
      "provenance": [],
      "toc_visible": true,
      "authorship_tag": "ABX9TyMupc8He93WlXy40s7vcIRI",
      "include_colab_link": true
    },
    "kernelspec": {
      "name": "python3",
      "display_name": "Python 3"
    },
    "language_info": {
      "name": "python"
    }
  },
  "cells": [
    {
      "cell_type": "markdown",
      "metadata": {
        "id": "view-in-github",
        "colab_type": "text"
      },
      "source": [
        "<a href=\"https://colab.research.google.com/github/Reddyscripts/A/blob/main/Untitled0.ipynb\" target=\"_parent\"><img src=\"https://colab.research.google.com/assets/colab-badge.svg\" alt=\"Open In Colab\"/></a>"
      ]
    },
    {
      "cell_type": "code",
      "execution_count": 1,
      "metadata": {
        "colab": {
          "base_uri": "https://localhost:8080/"
        },
        "id": "NyYiy9v9fxys",
        "outputId": "17a8ad3b-a03d-4258-a04b-3cbf3d6cef26"
      },
      "outputs": [
        {
          "output_type": "stream",
          "name": "stdout",
          "text": [
            "Collecting telethon\n",
            "  Downloading Telethon-1.38.1-py3-none-any.whl.metadata (3.6 kB)\n",
            "Collecting pyaes (from telethon)\n",
            "  Downloading pyaes-1.6.1.tar.gz (28 kB)\n",
            "  Preparing metadata (setup.py) ... \u001b[?25l\u001b[?25hdone\n",
            "Requirement already satisfied: rsa in /usr/local/lib/python3.10/dist-packages (from telethon) (4.9)\n",
            "Requirement already satisfied: pyasn1>=0.1.3 in /usr/local/lib/python3.10/dist-packages (from rsa->telethon) (0.6.1)\n",
            "Downloading Telethon-1.38.1-py3-none-any.whl (702 kB)\n",
            "\u001b[2K   \u001b[90m━━━━━━━━━━━━━━━━━━━━━━━━━━━━━━━━━━━━━━━━\u001b[0m \u001b[32m702.2/702.2 kB\u001b[0m \u001b[31m12.2 MB/s\u001b[0m eta \u001b[36m0:00:00\u001b[0m\n",
            "\u001b[?25hBuilding wheels for collected packages: pyaes\n",
            "  Building wheel for pyaes (setup.py) ... \u001b[?25l\u001b[?25hdone\n",
            "  Created wheel for pyaes: filename=pyaes-1.6.1-py3-none-any.whl size=26346 sha256=f0cce9bb503bf511fab417804de68827eab70f9a3ce5946ca470e27e9db0487f\n",
            "  Stored in directory: /root/.cache/pip/wheels/d6/84/5f/ea6aef85a93c7e1922486369874f4740a5642d261e09c59140\n",
            "Successfully built pyaes\n",
            "Installing collected packages: pyaes, telethon\n",
            "Successfully installed pyaes-1.6.1 telethon-1.38.1\n"
          ]
        }
      ],
      "source": [
        "!pip install telethon\n"
      ]
    },
    {
      "cell_type": "code",
      "source": [
        "import time\n",
        "from telethon import TelegramClient\n",
        "import asyncio\n",
        "\n",
        "# Define all the phone numbers with their corresponding API ID and API Hash\n",
        "accounts = [\n",
        "    ('27388252', 'ec725f7616dff97703d838686143ad91', '+2349157030084'),\n",
        "    ('27060993', '552f83b185e1681dc2665cc7b08c5b96', '+2348051508416'),\n",
        "    # Add up to 10 phone numbers (replace with your actual credentials)\n",
        "    ('API_ID_3', 'API_HASH_3', 'PHONE_NUMBER_3'),\n",
        "    ('API_ID_4', 'API_HASH_4', 'PHONE_NUMBER_4'),\n",
        "    ('API_ID_5', 'API_HASH_5', 'PHONE_NUMBER_5'),\n",
        "    ('API_ID_6', 'API_HASH_6', 'PHONE_NUMBER_6'),\n",
        "    ('API_ID_7', 'API_HASH_7', 'PHONE_NUMBER_7'),\n",
        "    ('API_ID_8', 'API_HASH_8', 'PHONE_NUMBER_8'),\n",
        "    ('API_ID_9', 'API_HASH_9', 'PHONE_NUMBER_9'),\n",
        "    ('API_ID_10', 'API_HASH_10', 'PHONE_NUMBER_10l\n",
        "]\n",
        "\n",
        "# Function to authenticate each account\n",
        "async def authenticate_phone_number(api_id, api_hash, phone_number):\n",
        "    client = TelegramClient(f'session_{phone_number}', api_id, api_hash)\n",
        "    await client.start(phone_number)\n",
        "    print(f\"Logged in successfully with phone number: {phone_number}\")\n",
        "\n",
        "# Function to authenticate multiple phone numbers\n",
        "async def main():\n",
        "    for account in accounts:\n",
        "        api_id, api_hash, phone_number = account\n",
        "        await authenticate_phone_number(api_id, api_hash, phone_number)\n",
        "        # Optional: Add some sleep between each authentication process to avoid overload\n",
        "        await asyncio.sleep(1)  # Adjust the time between logins if needed (like 1 second)\n",
        "\n",
        "# Run the script\n",
        "asyncio.run(main())\n"
      ],
      "metadata": {
        "colab": {
          "base_uri": "https://localhost:8080/",
          "height": 349
        },
        "id": "l-uDLsdbhDln",
        "outputId": "0edc7f67-c3e6-4de2-e293-c0c7b31b2d92"
      },
      "execution_count": 2,
      "outputs": [
        {
          "output_type": "error",
          "ename": "RuntimeError",
          "evalue": "asyncio.run() cannot be called from a running event loop",
          "traceback": [
            "\u001b[0;31m---------------------------------------------------------------------------\u001b[0m",
            "\u001b[0;31mRuntimeError\u001b[0m                              Traceback (most recent call last)",
            "\u001b[0;32m<ipython-input-2-546537b4f0b2>\u001b[0m in \u001b[0;36m<cell line: 35>\u001b[0;34m()\u001b[0m\n\u001b[1;32m     33\u001b[0m \u001b[0;34m\u001b[0m\u001b[0m\n\u001b[1;32m     34\u001b[0m \u001b[0;31m# Run the script\u001b[0m\u001b[0;34m\u001b[0m\u001b[0;34m\u001b[0m\u001b[0m\n\u001b[0;32m---> 35\u001b[0;31m \u001b[0masyncio\u001b[0m\u001b[0;34m.\u001b[0m\u001b[0mrun\u001b[0m\u001b[0;34m(\u001b[0m\u001b[0mmain\u001b[0m\u001b[0;34m(\u001b[0m\u001b[0;34m)\u001b[0m\u001b[0;34m)\u001b[0m\u001b[0;34m\u001b[0m\u001b[0;34m\u001b[0m\u001b[0m\n\u001b[0m",
            "\u001b[0;32m/usr/lib/python3.10/asyncio/runners.py\u001b[0m in \u001b[0;36mrun\u001b[0;34m(main, debug)\u001b[0m\n\u001b[1;32m     31\u001b[0m     \"\"\"\n\u001b[1;32m     32\u001b[0m     \u001b[0;32mif\u001b[0m \u001b[0mevents\u001b[0m\u001b[0;34m.\u001b[0m\u001b[0m_get_running_loop\u001b[0m\u001b[0;34m(\u001b[0m\u001b[0;34m)\u001b[0m \u001b[0;32mis\u001b[0m \u001b[0;32mnot\u001b[0m \u001b[0;32mNone\u001b[0m\u001b[0;34m:\u001b[0m\u001b[0;34m\u001b[0m\u001b[0;34m\u001b[0m\u001b[0m\n\u001b[0;32m---> 33\u001b[0;31m         raise RuntimeError(\n\u001b[0m\u001b[1;32m     34\u001b[0m             \"asyncio.run() cannot be called from a running event loop\")\n\u001b[1;32m     35\u001b[0m \u001b[0;34m\u001b[0m\u001b[0m\n",
            "\u001b[0;31mRuntimeError\u001b[0m: asyncio.run() cannot be called from a running event loop"
          ]
        }
      ]
    },
    {
      "cell_type": "code",
      "source": [
        "import time\n",
        "from telethon import TelegramClient\n",
        "import asyncio\n",
        "\n",
        "# Define all the phone numbers with their corresponding API ID and API Hash\n",
        "accounts = [\n",
        "    ('27388252', 'ec725f7616dff97703d838686143ad91', '+2349157030084'),\n",
        "        ('27060993', '552f83b185e1681dc2665cc7b08c5b96', '+2348051508416'),\n",
        "            # Add up to 10 phone numbers (replace with your actual credentials)\n",
        "                ('API_ID_3', 'API_HASH_3', 'PHONE_NUMBER_3'),\n",
        "                    ('API_ID_4', 'API_HASH_4', 'PHONE_NUMBER_4'),\n",
        "                        ('API_ID_5', 'API_HASH_5', 'PHONE_NUMBER_5'),\n",
        "                            ('API_ID_6', 'API_HASH_6', 'PHONE_NUMBER_6'),\n",
        "                                ('API_ID_7', 'API_HASH_7', 'PHONE_NUMBER_7'),\n",
        "                                    ('API_ID_8', 'API_HASH_8', 'PHONE_NUMBER_8'),\n",
        "                                        ('API_ID_9', 'API_HASH_9', 'PHONE_NUMBER_9'),\n",
        "                                            ('API_ID_10', 'API_HASH_10', 'PHONE_NUMBER_10')\n",
        "                                            ]\n",
        "\n",
        "                                            # Function to authenticate each account\n",
        "                                            async def authenticate_phone_number(api_id, api_hash, phone_number):\n",
        "                                                client = TelegramClient(f'session_{phone_number}', api_id, api_hash)\n",
        "                                                    await client.start(phone_number)\n",
        "                                                        print(f\"Logged in successfully with phone number: {phone_number}\")\n",
        "\n",
        "                                                        # Function to authenticate multiple phone numbers\n",
        "                                                        async def main():\n",
        "                                                            for account in accounts:\n",
        "                                                                    api_id, api_hash, phone_number = account\n",
        "                                                                            await authenticate_phone_number(api_id, api_hash, phone_number)\n",
        "                                                                                    # Optional: Add some sleep between each authentication process to avoid overload\n",
        "                                                                                            await asyncio.sleep(1)  # Adjust the time between logins if needed (like 1 second)\n",
        "\n",
        "                                                                                            # Run the script\n",
        "                                                                                            if __name__ == \"__main__\":\n",
        "                                                                                                asyncio.run(main())\n",
        ""
      ],
      "metadata": {
        "id": "ju-jz8YCk5Vo"
      },
      "execution_count": null,
      "outputs": []
    },
    {
      "cell_type": "code",
      "source": [
        "import time\n",
        "from telethon import TelegramClient\n",
        "import asyncio\n",
        "\n",
        "# Define all the phone numbers with their corresponding API ID and API Hash\n",
        "accounts = [\n",
        "    ('27388252', 'ec725f7616dff97703d838686143ad91', '+2349157030084'),\n",
        "    ('27060993', '552f83b185e1681dc2665cc7b08c5b96', '+2348051508416'),\n",
        "    # Add up to 10 phone numbers (replace with your actual credentials)\n",
        "    ('API_ID_3', 'API_HASH_3', 'PHONE_NUMBER_3'),\n",
        "    ('API_ID_4', 'API_HASH_4', 'PHONE_NUMBER_4'),\n",
        "    ('API_ID_5', 'API_HASH_5', 'PHONE_NUMBER_5'),\n",
        "    ('API_ID_6', 'API_HASH_6', 'PHONE_NUMBER_6'),\n",
        "    ('API_ID_7', 'API_HASH_7', 'PHONE_NUMBER_7'),\n",
        "    ('API_ID_8', 'API_HASH_8', 'PHONE_NUMBER_8'),\n",
        "    ('API_ID_9', 'API_HASH_9', 'PHONE_NUMBER_9'),\n",
        "    ('API_ID_10', 'API_HASH_10', 'PHONE_NUMBER_10')\n",
        "]\n",
        "\n",
        "# Function to authenticate each account\n",
        "async def authenticate_phone_number(api_id, api_hash, phone_number):\n",
        "    client = TelegramClient(f'session_{phone_number}', api_id, api_hash)\n",
        "    await client.start(phone_number)\n",
        "    print(f\"Logged in successfully with phone number: {phone_number}\")\n",
        "\n",
        "# Function to authenticate multiple phone numbers\n",
        "async def main():\n",
        "    for account in accounts:\n",
        "        api_id, api_hash, phone_number = account\n",
        "        await authenticate_phone_number(api_id, api_hash, phone_number)\n",
        "        # Optional: Add some sleep between each authentication process to avoid overload\n",
        "        await asyncio.sleep(1)  # Adjust the time between logins if needed (like 1 second)\n",
        "\n",
        "# Run the script\n",
        "if __name__ == \"__main__\":\n",
        "    asyncio.run(main())\n"
      ],
      "metadata": {
        "colab": {
          "base_uri": "https://localhost:8080/",
          "height": 422
        },
        "id": "sXYFgp4BlKsA",
        "outputId": "e25ad1a7-4e0f-4899-e33c-d35cd50fbb59"
      },
      "execution_count": 9,
      "outputs": [
        {
          "output_type": "stream",
          "name": "stderr",
          "text": [
            "/usr/lib/python3.10/tokenize.py:527: RuntimeWarning: coroutine 'main' was never awaited\n",
            "  pseudomatch = _compile(PseudoToken).match(line, pos)\n",
            "RuntimeWarning: Enable tracemalloc to get the object allocation traceback\n"
          ]
        },
        {
          "output_type": "error",
          "ename": "RuntimeError",
          "evalue": "asyncio.run() cannot be called from a running event loop",
          "traceback": [
            "\u001b[0;31m---------------------------------------------------------------------------\u001b[0m",
            "\u001b[0;31mRuntimeError\u001b[0m                              Traceback (most recent call last)",
            "\u001b[0;32m<ipython-input-9-552563e355d7>\u001b[0m in \u001b[0;36m<cell line: 35>\u001b[0;34m()\u001b[0m\n\u001b[1;32m     34\u001b[0m \u001b[0;31m# Run the script\u001b[0m\u001b[0;34m\u001b[0m\u001b[0;34m\u001b[0m\u001b[0m\n\u001b[1;32m     35\u001b[0m \u001b[0;32mif\u001b[0m \u001b[0m__name__\u001b[0m \u001b[0;34m==\u001b[0m \u001b[0;34m\"__main__\"\u001b[0m\u001b[0;34m:\u001b[0m\u001b[0;34m\u001b[0m\u001b[0;34m\u001b[0m\u001b[0m\n\u001b[0;32m---> 36\u001b[0;31m     \u001b[0masyncio\u001b[0m\u001b[0;34m.\u001b[0m\u001b[0mrun\u001b[0m\u001b[0;34m(\u001b[0m\u001b[0mmain\u001b[0m\u001b[0;34m(\u001b[0m\u001b[0;34m)\u001b[0m\u001b[0;34m)\u001b[0m\u001b[0;34m\u001b[0m\u001b[0;34m\u001b[0m\u001b[0m\n\u001b[0m",
            "\u001b[0;32m/usr/lib/python3.10/asyncio/runners.py\u001b[0m in \u001b[0;36mrun\u001b[0;34m(main, debug)\u001b[0m\n\u001b[1;32m     31\u001b[0m     \"\"\"\n\u001b[1;32m     32\u001b[0m     \u001b[0;32mif\u001b[0m \u001b[0mevents\u001b[0m\u001b[0;34m.\u001b[0m\u001b[0m_get_running_loop\u001b[0m\u001b[0;34m(\u001b[0m\u001b[0;34m)\u001b[0m \u001b[0;32mis\u001b[0m \u001b[0;32mnot\u001b[0m \u001b[0;32mNone\u001b[0m\u001b[0;34m:\u001b[0m\u001b[0;34m\u001b[0m\u001b[0;34m\u001b[0m\u001b[0m\n\u001b[0;32m---> 33\u001b[0;31m         raise RuntimeError(\n\u001b[0m\u001b[1;32m     34\u001b[0m             \"asyncio.run() cannot be called from a running event loop\")\n\u001b[1;32m     35\u001b[0m \u001b[0;34m\u001b[0m\u001b[0m\n",
            "\u001b[0;31mRuntimeError\u001b[0m: asyncio.run() cannot be called from a running event loop"
          ]
        }
      ]
    },
    {
      "cell_type": "code",
      "source": [
        "import time\n",
        "from telethon import TelegramClient\n",
        "import asyncio\n",
        "\n",
        "# Define all the phone numbers with their corresponding API ID and API Hash\n",
        "accounts = [\n",
        "    ('27388252', 'ec725f7616dff97703d838686143ad91', '+2349157030084'),\n",
        "        ('27060993', '552f83b185e1681dc2665cc7b08c5b96', '+2348051508416')\n",
        "        ]\n",
        "\n",
        "        # Function to authenticate each account\n",
        "        async def authenticate_phone_number(api_id, api_hash, phone_number):\n",
        "            client = TelegramClient(f'session_{phone_number}', api_id, api_hash)\n",
        "                await client.start(phone_number)\n",
        "                    print(f\"Logged in successfully with phone number: {phone_number}\")\n",
        "\n",
        "                    # Function to authenticate multiple phone numbers\n",
        "                    async def main():\n",
        "                        for account in accounts:\n",
        "                                api_id, api_hash, phone_number = account\n",
        "                                        await authenticate_phone_number(api_id, api_hash, phone_number)\n",
        "                                                # Optional: Add some sleep between each authentication process to avoid overload\n",
        "                                                        await asyncio.sleep(1)  # Adjust the time between logins if needed (like 1 second)\n",
        "\n",
        "                                                        # Run the script\n",
        "                                                        if __name__ == \"__main__\":\n",
        "                                                            asyncio.run(main())"
      ],
      "metadata": {
        "colab": {
          "base_uri": "https://localhost:8080/",
          "height": 106
        },
        "id": "VYuux6YbmGJZ",
        "outputId": "89b64339-e95f-402f-fc79-820ab7bb08dc"
      },
      "execution_count": 11,
      "outputs": [
        {
          "output_type": "error",
          "ename": "IndentationError",
          "evalue": "unexpected indent (<ipython-input-11-002234e68f0c>, line 12)",
          "traceback": [
            "\u001b[0;36m  File \u001b[0;32m\"<ipython-input-11-002234e68f0c>\"\u001b[0;36m, line \u001b[0;32m12\u001b[0m\n\u001b[0;31m    async def authenticate_phone_number(api_id, api_hash, phone_number):\u001b[0m\n\u001b[0m    ^\u001b[0m\n\u001b[0;31mIndentationError\u001b[0m\u001b[0;31m:\u001b[0m unexpected indent\n"
          ]
        }
      ]
    },
    {
      "cell_type": "code",
      "source": [
        "import time\n",
        "from telethon import TelegramClient\n",
        "import asyncio\n",
        "\n",
        "# Define all the phone numbers with their corresponding API ID and API Hash\n",
        "accounts = [\n",
        "    ('27388252', 'ec725f7616dff97703d838686143ad91', '+2349157030084'),\n",
        "        ('27060993', '552f83b185e1681dc2665cc7b08c5b96', '+2348051508416'),\n",
        "            # Add up to 10 phone numbers (replace with your actual credentials)\n",
        "                ('API_ID_3', 'API_HASH_3', 'PHONE_NUMBER_3'),\n",
        "                    ('API_ID_4', 'API_HASH_4', 'PHONE_NUMBER_4'),\n",
        "                        ('API_ID_5', 'API_HASH_5', 'PHONE_NUMBER_5'),\n",
        "                            ('API_ID_6', 'API_HASH_6', 'PHONE_NUMBER_6'),\n",
        "                                ('API_ID_7', 'API_HASH_7', 'PHONE_NUMBER_7'),\n",
        "                                    ('API_ID_8', 'API_HASH_8', 'PHONE_NUMBER_8'),\n",
        "                                        ('API_ID_9', 'API_HASH_9', 'PHONE_NUMBER_9'),\n",
        "                                            ('API_ID_10', 'API_HASH_10', 'PHONE_NUMBER_10')\n",
        "                                            ]\n",
        "\n",
        "                                            # Function to authenticate each account\n",
        "                                            async def authenticate_phone_number(api_id, api_hash, phone_number):\n",
        "                                                client = TelegramClient(f'session_{phone_number}', api_id, api_hash)\n",
        "                                                    await client.start(phone_number)\n",
        "                                                        print(f\"Logged in successfully with phone number: {phone_number}\")\n",
        "\n",
        "                                                        # Function to authenticate multiple phone numbers\n",
        "                                                        async def main():\n",
        "                                                            for account in accounts:\n",
        "                                                                    api_id, api_hash, phone_number = account\n",
        "                                                                            await authenticate_phone_number(api_id, api_hash, phone_number)\n",
        "                                                                                    # Optional: Add some sleep between each authentication process to avoid overload\n",
        "                                                                                            await asyncio.sleep(1)  # Adjust the time between logins if needed (like 1 second)\n",
        "\n",
        "                                                                                            # Run the script\n",
        "                                                                                            if __name__ == \"__main__\":\n",
        "                                                                                                asyncio.run(main())\n",
        ""
      ],
      "metadata": {
        "id": "O1jvki6nmX_G"
      },
      "execution_count": null,
      "outputs": []
    },
    {
      "cell_type": "code",
      "source": [
        "import time\n",
        "from telethon import TelegramClient\n",
        "import asyncio\n",
        "\n",
        "# Define all the phone numbers with their corresponding API ID and API Hash\n",
        "accounts = [\n",
        "    ('27388252', 'ec725f7616dff97703d838686143ad91', '+2349157030084'),\n",
        "        ('27060993', '552f83b185e1681dc2665cc7b08c5b96', '+2348051508416')\n",
        "        ]\n",
        "\n",
        "        # Function to authenticate each account\n",
        "        async def authenticate_phone_number(api_id, api_hash, phone_number):\n",
        "            client = TelegramClient(f'session_{phone_number}', api_id, api_hash)\n",
        "                await client.start(phone_number)\n",
        "                    print(f\"Logged in successfully with phone number: {phone_number}\")\n",
        "\n",
        "                    # Function to authenticate multiple phone numbers\n",
        "                    async def main():\n",
        "                        for account in accounts:\n",
        "                                api_id, api_hash, phone_number = account\n",
        "                                        await authenticate_phone_number(api_id, api_hash, phone_number)\n",
        "                                                # Optional: Add some sleep between each authentication process to avoid overload\n",
        "                                                        await asyncio.sleep(1)  # Adjust the time between logins if needed (like 1 second)\n",
        "\n",
        "                                                        # Run the script\n",
        "                                                        if __name__ == \"__main__\":\n",
        "                                                            asyncio.run(main())"
      ],
      "metadata": {
        "colab": {
          "base_uri": "https://localhost:8080/",
          "height": 106
        },
        "id": "yEygMszzmhil",
        "outputId": "a28b5bac-192e-445a-af13-9cd86a9d9645"
      },
      "execution_count": 12,
      "outputs": [
        {
          "output_type": "error",
          "ename": "IndentationError",
          "evalue": "unexpected indent (<ipython-input-12-002234e68f0c>, line 12)",
          "traceback": [
            "\u001b[0;36m  File \u001b[0;32m\"<ipython-input-12-002234e68f0c>\"\u001b[0;36m, line \u001b[0;32m12\u001b[0m\n\u001b[0;31m    async def authenticate_phone_number(api_id, api_hash, phone_number):\u001b[0m\n\u001b[0m    ^\u001b[0m\n\u001b[0;31mIndentationError\u001b[0m\u001b[0;31m:\u001b[0m unexpected indent\n"
          ]
        }
      ]
    },
    {
      "cell_type": "code",
      "source": [
        "import time\n",
        "from telethon import TelegramClient\n",
        "import asyncio\n",
        "\n",
        "# Define all the phone numbers with their corresponding API ID and API Hash\n",
        "accounts = [\n",
        "    ('27388252', 'ec725f7616dff97703d838686143ad91', '+2349157030084'),\n",
        "    ('27060993', '552f83b185e1681dc2665cc7b08c5b96', '+2348051508416')\n",
        "]\n",
        "\n",
        "# Function to authenticate each account\n",
        "async def authenticate_phone_number(api_id, api_hash, phone_number):\n",
        "    client = TelegramClient(f'session_{phone_number}', api_id, api_hash)\n",
        "    await client.start(phone_number)\n",
        "    print(f\"Logged in successfully with phone number: {phone_number}\")\n",
        "\n",
        "# Function to authenticate multiple phone numbers\n",
        "async def main():\n",
        "    for account in accounts:\n",
        "        api_id, api_hash, phone_number = account\n",
        "        await authenticate_phone_number(api_id, api_hash, phone_number)\n",
        "        # Optional: Add some sleep between each authentication process to avoid overload\n",
        "        await asyncio.sleep(1)  # Adjust the time between logins if needed (like 1 second)\n",
        "\n",
        "# Run the script\n",
        "if __name__ == \"__main__\":\n",
        "    asyncio.run(main())"
      ],
      "metadata": {
        "colab": {
          "base_uri": "https://localhost:8080/",
          "height": 349
        },
        "id": "kYtk0aSamsWU",
        "outputId": "77008f04-a82b-4a52-f007-fde10ae6fcd1"
      },
      "execution_count": 13,
      "outputs": [
        {
          "output_type": "error",
          "ename": "RuntimeError",
          "evalue": "asyncio.run() cannot be called from a running event loop",
          "traceback": [
            "\u001b[0;31m---------------------------------------------------------------------------\u001b[0m",
            "\u001b[0;31mRuntimeError\u001b[0m                              Traceback (most recent call last)",
            "\u001b[0;32m<ipython-input-13-0c0299c5fb89>\u001b[0m in \u001b[0;36m<cell line: 26>\u001b[0;34m()\u001b[0m\n\u001b[1;32m     25\u001b[0m \u001b[0;31m# Run the script\u001b[0m\u001b[0;34m\u001b[0m\u001b[0;34m\u001b[0m\u001b[0m\n\u001b[1;32m     26\u001b[0m \u001b[0;32mif\u001b[0m \u001b[0m__name__\u001b[0m \u001b[0;34m==\u001b[0m \u001b[0;34m\"__main__\"\u001b[0m\u001b[0;34m:\u001b[0m\u001b[0;34m\u001b[0m\u001b[0;34m\u001b[0m\u001b[0m\n\u001b[0;32m---> 27\u001b[0;31m     \u001b[0masyncio\u001b[0m\u001b[0;34m.\u001b[0m\u001b[0mrun\u001b[0m\u001b[0;34m(\u001b[0m\u001b[0mmain\u001b[0m\u001b[0;34m(\u001b[0m\u001b[0;34m)\u001b[0m\u001b[0;34m)\u001b[0m\u001b[0;34m\u001b[0m\u001b[0;34m\u001b[0m\u001b[0m\n\u001b[0m",
            "\u001b[0;32m/usr/lib/python3.10/asyncio/runners.py\u001b[0m in \u001b[0;36mrun\u001b[0;34m(main, debug)\u001b[0m\n\u001b[1;32m     31\u001b[0m     \"\"\"\n\u001b[1;32m     32\u001b[0m     \u001b[0;32mif\u001b[0m \u001b[0mevents\u001b[0m\u001b[0;34m.\u001b[0m\u001b[0m_get_running_loop\u001b[0m\u001b[0;34m(\u001b[0m\u001b[0;34m)\u001b[0m \u001b[0;32mis\u001b[0m \u001b[0;32mnot\u001b[0m \u001b[0;32mNone\u001b[0m\u001b[0;34m:\u001b[0m\u001b[0;34m\u001b[0m\u001b[0;34m\u001b[0m\u001b[0m\n\u001b[0;32m---> 33\u001b[0;31m         raise RuntimeError(\n\u001b[0m\u001b[1;32m     34\u001b[0m             \"asyncio.run() cannot be called from a running event loop\")\n\u001b[1;32m     35\u001b[0m \u001b[0;34m\u001b[0m\u001b[0m\n",
            "\u001b[0;31mRuntimeError\u001b[0m: asyncio.run() cannot be called from a running event loop"
          ]
        }
      ]
    },
    {
      "cell_type": "code",
      "source": [
        "!pip install nest_asyncio"
      ],
      "metadata": {
        "colab": {
          "base_uri": "https://localhost:8080/"
        },
        "id": "KpIXO_KvnD64",
        "outputId": "9a50a3fb-609d-48c3-a390-d1a01f6cbb30"
      },
      "execution_count": 14,
      "outputs": [
        {
          "output_type": "stream",
          "name": "stdout",
          "text": [
            "Requirement already satisfied: nest_asyncio in /usr/local/lib/python3.10/dist-packages (1.6.0)\n"
          ]
        }
      ]
    },
    {
      "cell_type": "code",
      "source": [
        "import time\n",
        "from telethon import TelegramClient\n",
        "import asyncio\n",
        "import nest_asyncio  # Import nest_asyncio\n",
        "\n",
        "# Apply nest_asyncio to allow nested event loops\n",
        "nest_asyncio.apply()\n",
        "\n",
        "# Define all the phone numbers with their corresponding API ID and API Hash\n",
        "accounts = [\n",
        "    ('27388252', 'ec725f7616dff97703d838686143ad91', '+2349157030084'),\n",
        "        ('27060993', '552f83b185e1681dc2665cc7b08c5b96', '+2348051508416')\n",
        "        ]\n",
        "\n",
        "        # Function to authenticate each account\n",
        "        async def authenticate_phone_number(api_id, api_hash, phone_number):\n",
        "            client = TelegramClient(f'session_{phone_number}', api_id, api_hash)\n",
        "                await client.start(phone_number)\n",
        "                    print(f\"Logged in successfully with phone number: {phone_number}\")\n",
        "\n",
        "                    # Function to authenticate multiple phone numbers\n",
        "                    async def main():\n",
        "                        for account in accounts:\n",
        "                                api_id, api_hash, phone_number = account\n",
        "                                        await authenticate_phone_number(api_id, api_hash, phone_number)\n",
        "                                                # Optional: Add some sleep between each authentication process to avoid overload\n",
        "                                                        await asyncio.sleep(1)  # Adjust the time between logins if needed (like 1 second)\n",
        "\n",
        "                                                        # Run the script using the existing event loop\n",
        "                                                        if __name__ == \"__main__\":\n",
        "                                                            # asyncio.run(main())  # Remove or comment out this line\n",
        "                                                                loop = asyncio.get_event_loop() # Get the current event loop\n",
        "                                                                    loop.run_until_complete(main())  # Run the main function within the existing loop"
      ],
      "metadata": {
        "id": "vsST5mt-ncWo"
      },
      "execution_count": null,
      "outputs": []
    },
    {
      "cell_type": "code",
      "source": [
        "import time\n",
        "from telethon import TelegramClient\n",
        "import asyncio\n",
        "import nest_asyncio  # Import nest_asyncio\n",
        "\n",
        "# Apply nest_asyncio to allow nested event loops\n",
        "nest_asyncio.apply()\n",
        "\n",
        "# Define all the phone numbers with their corresponding API ID and API Hash\n",
        "accounts = [\n",
        "    ('27388252', 'ec725f7616dff97703d838686143ad91', '+2349157030084'),\n",
        "    ('27060993', '552f83b185e1681dc2665cc7b08c5b96', '+2348051508416')\n",
        "]\n",
        "\n",
        "# Function to authenticate each account\n",
        "async def authenticate_phone_number(api_id, api_hash, phone_number):\n",
        "    client = TelegramClient(f'session_{phone_number}', api_id, api_hash)\n",
        "    await client.start(phone_number)\n",
        "    print(f\"Logged in successfully with phone number: {phone_number}\")\n",
        "\n",
        "# Function to authenticate multiple phone numbers\n",
        "async def main():\n",
        "    for account in accounts:\n",
        "        api_id, api_hash, phone_number = account\n",
        "        await authenticate_phone_number(api_id, api_hash, phone_number)\n",
        "        # Optional: Add some sleep between each authentication process to avoid overload\n",
        "        await asyncio.sleep(1)  # Adjust the time between logins if needed (like 1 second)\n",
        "\n",
        "# Run the script using the existing event loop\n",
        "if __name__ == \"__main__\":\n",
        "    # asyncio.run(main())  # Remove or comment out this line\n",
        "    loop = asyncio.get_event_loop() # Get the current event loop\n",
        "    loop.run_until_complete(main())  # Run the main function within the existing loop"
      ],
      "metadata": {
        "colab": {
          "base_uri": "https://localhost:8080/"
        },
        "id": "geE4Q-F-npFL",
        "outputId": "a14da315-a0ff-4a1d-ff53-4228ca69dc02"
      },
      "execution_count": 15,
      "outputs": [
        {
          "metadata": {
            "tags": null
          },
          "name": "stderr",
          "output_type": "stream",
          "text": [
            "/usr/lib/python3.10/asyncio/locks.py:191: RuntimeWarning: coroutine 'main' was never awaited\n",
            "  for fut in self._waiters:\n",
            "RuntimeWarning: Enable tracemalloc to get the object allocation traceback\n",
            "/usr/local/lib/python3.10/dist-packages/telethon/tl/functions/auth.py:697: RuntimeWarning: coroutine 'main' was never awaited\n",
            "  self.settings._bytes(),\n",
            "RuntimeWarning: Enable tracemalloc to get the object allocation traceback\n"
          ]
        },
        {
          "output_type": "stream",
          "name": "stdout",
          "text": [
            "Signed in successfully as Harks; remember to not break the ToS or you will risk an account ban!\n",
            "Logged in successfully with phone number: +2349157030084\n",
            "Please enter the code you received: 83405\n",
            "Signed in successfully as Red 🍅; remember to not break the ToS or you will risk an account ban!\n",
            "Logged in successfully with phone number: +2348051508416\n"
          ]
        }
      ]
    }
  ]
}